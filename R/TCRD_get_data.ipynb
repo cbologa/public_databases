{
  "nbformat": 4,
  "nbformat_minor": 0,
  "metadata": {
    "colab": {
      "provenance": [],
      "include_colab_link": true
    },
    "kernelspec": {
      "name": "ir",
      "display_name": "R"
    },
    "language_info": {
      "name": "R"
    }
  },
  "cells": [
    {
      "cell_type": "markdown",
      "metadata": {
        "id": "view-in-github",
        "colab_type": "text"
      },
      "source": [
        "<a href=\"https://colab.research.google.com/github/cbologa/public_databases/blob/main/R/TCRD_get_data.ipynb\" target=\"_parent\"><img src=\"https://colab.research.google.com/assets/colab-badge.svg\" alt=\"Open In Colab\"/></a>"
      ]
    },
    {
      "cell_type": "markdown",
      "source": [
        "Load required packages"
      ],
      "metadata": {
        "id": "s07sCpH-DyA2"
      }
    },
    {
      "cell_type": "code",
      "execution_count": 9,
      "metadata": {
        "id": "80PgX-6tBjiX"
      },
      "outputs": [],
      "source": [
        "if(!require(pacman)) install.packages(\"pacman\")\n",
        "pacman::p_load(RMySQL)"
      ]
    },
    {
      "cell_type": "markdown",
      "source": [
        "Connect to database"
      ],
      "metadata": {
        "id": "7QoB-VkpXuUB"
      }
    },
    {
      "cell_type": "code",
      "source": [
        "tcrd = dbConnect(MySQL(), dbname='tcrd6134pharos2', host='tcrd.kmc.io', user='tcrd')"
      ],
      "metadata": {
        "id": "Yf-EuDEhXxTX"
      },
      "execution_count": 13,
      "outputs": []
    },
    {
      "cell_type": "markdown",
      "source": [
        "Show all tables in the database"
      ],
      "metadata": {
        "id": "lMyc0ywrYR-2"
      }
    },
    {
      "cell_type": "code",
      "source": [
        "dbListTables(tcrd)"
      ],
      "metadata": {
        "id": "tYuutJ47X-C8"
      },
      "execution_count": null,
      "outputs": []
    },
    {
      "cell_type": "markdown",
      "source": [
        "Show fields in a table"
      ],
      "metadata": {
        "id": "o3ahm5PbYh5z"
      }
    },
    {
      "cell_type": "code",
      "source": [
        "dbListFields(tcrd, \"goa\")"
      ],
      "metadata": {
        "id": "V8Do0pY5YmAb"
      },
      "execution_count": null,
      "outputs": []
    },
    {
      "cell_type": "markdown",
      "source": [
        "Get data from TCRD"
      ],
      "metadata": {
        "id": "Xu-7nDPaD4g-"
      }
    },
    {
      "cell_type": "code",
      "source": [
        "rs = dbSendQuery(tcrd, \"\n",
        "  select \n",
        "  protein.id,\n",
        "  protein.name,\n",
        "  protein.description,\n",
        "  protein.sym,\n",
        "  protein.uniprot,\n",
        "  protein.geneid,\n",
        "  protein.stringid,\n",
        "  target.tdl,\n",
        "  target.idg\n",
        "from\n",
        "  protein\n",
        "  join t2tc on protein.id=t2tc.protein_id\n",
        "  join target on t2tc.target_id=target.id\n",
        "order by\n",
        "  protein.id\n",
        "\")\n",
        "df = fetch(rs, n=-1)\n",
        "dbClearResult(dbListResults(tcrd)[[1]])\n",
        "dbDisconnect(tcrd)"
      ],
      "metadata": {
        "id": "faTUGClGD8Tl"
      },
      "execution_count": null,
      "outputs": []
    },
    {
      "cell_type": "markdown",
      "source": [
        "Export results to csv file"
      ],
      "metadata": {
        "id": "vwoi2RgCERtC"
      }
    },
    {
      "cell_type": "code",
      "source": [
        "write.csv(df, \"tcrd_v6_13_4.csv\", row.names=FALSE)"
      ],
      "metadata": {
        "id": "43Jm2DUEEZ69"
      },
      "execution_count": 11,
      "outputs": []
    },
    {
      "cell_type": "markdown",
      "source": [
        "Show results"
      ],
      "metadata": {
        "id": "4p6B3HjxWxDF"
      }
    },
    {
      "cell_type": "code",
      "source": [
        "df"
      ],
      "metadata": {
        "id": "jK78IWynW0gW"
      },
      "execution_count": null,
      "outputs": []
    }
  ]
}
