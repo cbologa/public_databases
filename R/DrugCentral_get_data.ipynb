{
  "nbformat": 4,
  "nbformat_minor": 0,
  "metadata": {
    "colab": {
      "provenance": [],
      "authorship_tag": "ABX9TyPyOaQ4PjSDFfpsMAfGpvrb",
      "include_colab_link": true
    },
    "kernelspec": {
      "name": "ir",
      "display_name": "R"
    },
    "language_info": {
      "name": "R"
    }
  },
  "cells": [
    {
      "cell_type": "markdown",
      "metadata": {
        "id": "view-in-github",
        "colab_type": "text"
      },
      "source": [
        "<a href=\"https://colab.research.google.com/github/cbologa/public_databases/blob/main/R/DrugCentral_get_data.ipynb\" target=\"_parent\"><img src=\"https://colab.research.google.com/assets/colab-badge.svg\" alt=\"Open In Colab\"/></a>"
      ]
    },
    {
      "cell_type": "markdown",
      "source": [
        "Load required packages"
      ],
      "metadata": {
        "id": "DDxnKvPDh5JH"
      }
    },
    {
      "cell_type": "code",
      "execution_count": null,
      "metadata": {
        "id": "sSdJFFL-hoOI"
      },
      "outputs": [],
      "source": [
        "if(!require(pacman)) install.packages(\"pacman\")\n",
        "pacman::p_load(RPostgreSQL)"
      ]
    },
    {
      "cell_type": "markdown",
      "source": [
        "Connect to database"
      ],
      "metadata": {
        "id": "95wZVj-blnJs"
      }
    },
    {
      "cell_type": "code",
      "source": [
        "con <- dbConnect(PostgreSQL(), dbname = \"drugcentral\", host=\"unmtid-dbs.net\", port=5433, user=\"drugman\", password=\"dosage\")"
      ],
      "metadata": {
        "id": "wCcYge7MlwTK"
      },
      "execution_count": 4,
      "outputs": []
    },
    {
      "cell_type": "markdown",
      "source": [
        "Show all tables in the database"
      ],
      "metadata": {
        "id": "-ES9YppeoFvH"
      }
    },
    {
      "cell_type": "code",
      "source": [
        "dbListTables(con)"
      ],
      "metadata": {
        "id": "7gnWO_0NoRvV"
      },
      "execution_count": null,
      "outputs": []
    },
    {
      "cell_type": "markdown",
      "source": [
        "There are also 4 dynamic tables (views) that are not be listed above:\n",
        "\n",
        "* faers_top\n",
        "* ob_exclusivity_view\n",
        "* ob_patent_view\n",
        "* omop_relationship_doid_view"
      ],
      "metadata": {
        "id": "gzwUIpgfo3Vw"
      }
    },
    {
      "cell_type": "markdown",
      "source": [
        "Show fields in a table/view"
      ],
      "metadata": {
        "id": "imzd2vTxo5cG"
      }
    },
    {
      "cell_type": "code",
      "source": [
        "dbGetQuery(con,\"\n",
        "select\n",
        "  *\n",
        "from\n",
        "  information_schema.columns\n",
        "where\n",
        "  table_schema = 'public' and\n",
        "  table_name = 'omop_relationship_doid_view';\n",
        "\")"
      ],
      "metadata": {
        "id": "xdt8bOyjpEZV"
      },
      "execution_count": null,
      "outputs": []
    },
    {
      "cell_type": "markdown",
      "source": [
        "Extract all drugs and their mechanism of action (MoA) on human targets."
      ],
      "metadata": {
        "id": "Uq7U6NmetNq3"
      }
    },
    {
      "cell_type": "code",
      "source": [
        "df1 <- dbGetQuery(con, \"\n",
        "select \n",
        "  struct_id,\n",
        "\tstructures.name,\n",
        "\ttarget_name,\n",
        "\ttarget_class,\n",
        "\taccession,\n",
        "\tgene,\n",
        "\tswissprot,\n",
        "\tact_value,\n",
        "\tact_type,\n",
        "\tact_source,\n",
        "\tact_source_url,\n",
        "\tmoa_source,\n",
        "\tmoa_source_url \n",
        "from \n",
        "  act_table_full\n",
        "\tjoin structures on act_table_full.struct_id = structures.id\n",
        "where\n",
        "  moa = 1 and organism = 'Homo sapiens'\n",
        "\")\n",
        "\n",
        "#save results to file\n",
        "write.csv(df1, \"dc_moa.csv\", row.names=FALSE)\n",
        "\n",
        "# Show results\n",
        "df1"
      ],
      "metadata": {
        "id": "mWgVgRmftbCu"
      },
      "execution_count": null,
      "outputs": []
    },
    {
      "cell_type": "markdown",
      "source": [
        "Get all DOID-mapped indications from omop_relationship_doid_view"
      ],
      "metadata": {
        "id": "scQUks6gublK"
      }
    },
    {
      "cell_type": "code",
      "source": [
        "df2 <- dbGetQuery(con, \"\n",
        "select\n",
        "  *\n",
        "from\n",
        "  omop_relationship_doid_view\n",
        "where\n",
        "  relationship_name = 'indication' and\n",
        "  doid is not null\n",
        "order by\n",
        "  concept_name\n",
        "\")\n",
        "\n",
        "#save results to file\n",
        "write.csv(df2, \"dc_doid.csv\", row.names=FALSE)\n",
        "\n",
        "# Show results\n",
        "df2"
      ],
      "metadata": {
        "id": "N1jNn1ZVulIf"
      },
      "execution_count": null,
      "outputs": []
    },
    {
      "cell_type": "markdown",
      "source": [
        "Close database connection"
      ],
      "metadata": {
        "id": "cyHH7GhmvVwn"
      }
    },
    {
      "cell_type": "code",
      "source": [
        "dbDisconnect(con)"
      ],
      "metadata": {
        "id": "1mFXCe5wvZq8"
      },
      "execution_count": null,
      "outputs": []
    }
  ]
}