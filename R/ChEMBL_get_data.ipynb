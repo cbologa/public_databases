{
  "nbformat": 4,
  "nbformat_minor": 0,
  "metadata": {
    "colab": {
      "provenance": [],
      "authorship_tag": "ABX9TyPEUrMUKyWbBL8wzk5qtrxP",
      "include_colab_link": true
    },
    "kernelspec": {
      "name": "ir",
      "display_name": "R"
    },
    "language_info": {
      "name": "R"
    }
  },
  "cells": [
    {
      "cell_type": "markdown",
      "metadata": {
        "id": "view-in-github",
        "colab_type": "text"
      },
      "source": [
        "<a href=\"https://colab.research.google.com/github/cbologa/public_databases/blob/main/R/ChEMBL_get_data.ipynb\" target=\"_parent\"><img src=\"https://colab.research.google.com/assets/colab-badge.svg\" alt=\"Open In Colab\"/></a>"
      ]
    },
    {
      "cell_type": "markdown",
      "source": [
        "Latest ChEMBL database data dictionary is available at https://ftp.ebi.ac.uk/pub/databases/chembl/ChEMBLdb/latest/schema_documentation.html"
      ],
      "metadata": {
        "id": "3wBTxe1kyZyo"
      }
    },
    {
      "cell_type": "markdown",
      "source": [
        "Load required packages"
      ],
      "metadata": {
        "id": "DDxnKvPDh5JH"
      }
    },
    {
      "cell_type": "code",
      "execution_count": null,
      "metadata": {
        "id": "sSdJFFL-hoOI"
      },
      "outputs": [],
      "source": [
        "if(!require(pacman)) install.packages(\"pacman\")\n",
        "pacman::p_load(R.utils, RSQLite, curl)\n",
        "library(DBI)"
      ]
    },
    {
      "cell_type": "markdown",
      "source": [
        "Download and unpack the SQLite version of ChEMBL database"
      ],
      "metadata": {
        "id": "SUDp4pagyyGt"
      }
    },
    {
      "cell_type": "code",
      "source": [
        "zip  <- \"chembl_31_sqlite.tar.gz\"\n",
        "file <- \"chembl_31/chembl_31_sqlite/chembl_31.db\"\n",
        "if(!file.exists(file)){\n",
        "   curl_download(paste0(\"ftp://ftp.ebi.ac.uk/pub/databases/chembl/ChEMBLdb/latest/\",zip),zip)\n",
        "   untar(zip,files = file, exdir = \"./\")\n",
        "}"
      ],
      "metadata": {
        "id": "7X9IKIuty77O"
      },
      "execution_count": 2,
      "outputs": []
    },
    {
      "cell_type": "markdown",
      "source": [
        "Connect to database"
      ],
      "metadata": {
        "id": "95wZVj-blnJs"
      }
    },
    {
      "cell_type": "code",
      "source": [
        "con <- dbConnect(RSQLite::SQLite(), file)"
      ],
      "metadata": {
        "id": "wCcYge7MlwTK"
      },
      "execution_count": 3,
      "outputs": []
    },
    {
      "cell_type": "markdown",
      "source": [
        "Show all tables in the database"
      ],
      "metadata": {
        "id": "-ES9YppeoFvH"
      }
    },
    {
      "cell_type": "code",
      "source": [
        "dbListTables(con)"
      ],
      "metadata": {
        "id": "7gnWO_0NoRvV"
      },
      "execution_count": null,
      "outputs": []
    },
    {
      "cell_type": "markdown",
      "source": [
        "Show fields in a table/view"
      ],
      "metadata": {
        "id": "imzd2vTxo5cG"
      }
    },
    {
      "cell_type": "code",
      "source": [
        "dbListFields(con, \"activities\")"
      ],
      "metadata": {
        "id": "PMiAolx-PV66"
      },
      "execution_count": null,
      "outputs": []
    },
    {
      "cell_type": "markdown",
      "source": [
        "Extract references, bioactivities, and compounds tested on equine encephalitis viruses"
      ],
      "metadata": {
        "id": "Uq7U6NmetNq3"
      }
    },
    {
      "cell_type": "code",
      "source": [
        "df1 <- dbGetQuery(con, \"\n",
        "select\n",
        "  target_dictionary.*,\n",
        "  assays.*,\n",
        "  activities.*,\n",
        "  compound_structures.standard_inchi_key,\n",
        "  compound_structures.canonical_smiles,\n",
        "  molecule_dictionary.*,\n",
        "  docs.*\n",
        "from\n",
        "  target_dictionary\n",
        "  left join assays on target_dictionary.tid=assays.tid\n",
        "  left join docs on assays.doc_id=docs.doc_id\n",
        "  left join activities on assays.assay_id=activities.assay_id\n",
        "  left join molecule_dictionary on activities.molregno=molecule_dictionary.molregno\n",
        "  left join compound_structures on molecule_dictionary.molregno=compound_structures.molregno\n",
        "where \n",
        "  target_dictionary.organism like '%equine encephalitis virus'\n",
        "group by\n",
        "  target_dictionary.tid,\n",
        "  assays.assay_id,\n",
        "  activities.activity_id,\n",
        "  compound_structures.standard_inchi_key,\n",
        "  compound_structures.canonical_smiles,\n",
        "  molecule_dictionary.molregno,\n",
        "  docs.doc_id\n",
        "order by\n",
        "  docs.year,\n",
        "  docs.doi\n",
        "\")\n",
        "\n",
        "#save results to file\n",
        "write.csv(df1, \"chembl_eev.csv\", row.names=FALSE)\n",
        "\n",
        "# Show results\n",
        "df1"
      ],
      "metadata": {
        "id": "mWgVgRmftbCu"
      },
      "execution_count": null,
      "outputs": []
    },
    {
      "cell_type": "markdown",
      "source": [
        "Close database connection"
      ],
      "metadata": {
        "id": "cyHH7GhmvVwn"
      }
    },
    {
      "cell_type": "code",
      "source": [
        "dbDisconnect(con)"
      ],
      "metadata": {
        "id": "1mFXCe5wvZq8"
      },
      "execution_count": 7,
      "outputs": []
    }
  ]
}