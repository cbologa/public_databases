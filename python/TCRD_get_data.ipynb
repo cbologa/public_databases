{
  "nbformat": 4,
  "nbformat_minor": 0,
  "metadata": {
    "colab": {
      "provenance": [],
      "include_colab_link": true
    },
    "kernelspec": {
      "name": "python3",
      "display_name": "Python 3"
    },
    "language_info": {
      "name": "python"
    }
  },
  "cells": [
    {
      "cell_type": "markdown",
      "metadata": {
        "id": "view-in-github",
        "colab_type": "text"
      },
      "source": [
        "<a href=\"https://colab.research.google.com/github/cbologa/public_databases/blob/main/python/TCRD_get_data.ipynb\" target=\"_parent\"><img src=\"https://colab.research.google.com/assets/colab-badge.svg\" alt=\"Open In Colab\"/></a>"
      ]
    },
    {
      "cell_type": "code",
      "execution_count": null,
      "metadata": {
        "id": "AZzGIp_yiHN6"
      },
      "outputs": [],
      "source": [
        "#@title\n",
        "%load_ext google.colab.data_table\n",
        "!pip -q install pymysql"
      ]
    },
    {
      "cell_type": "markdown",
      "source": [
        "Import packages and connect to database"
      ],
      "metadata": {
        "id": "E89E1ANdiaaX"
      }
    },
    {
      "cell_type": "code",
      "source": [
        "#@title\n",
        "# Import packages\n",
        "from sqlalchemy import create_engine\n",
        "import pandas as pd\n",
        "\n",
        "# Open database connection\n",
        "engine = create_engine(\"mysql+pymysql://tcrd@tcrd.kmc.io:3306/tcrd6134\")"
      ],
      "metadata": {
        "id": "EuNnDGwdifr6"
      },
      "execution_count": null,
      "outputs": []
    },
    {
      "cell_type": "markdown",
      "source": [
        "Show all tables in the database"
      ],
      "metadata": {
        "id": "Euft5A8JsW7R"
      }
    },
    {
      "cell_type": "code",
      "source": [
        "pd.read_sql_query(\"\"\"\n",
        "show tables\n",
        " \"\"\", engine)"
      ],
      "metadata": {
        "id": "DwfxOLS-sQjz"
      },
      "execution_count": null,
      "outputs": []
    },
    {
      "cell_type": "markdown",
      "source": [
        "Show fields in a table"
      ],
      "metadata": {
        "id": "BJ8wYVHDs6Fj"
      }
    },
    {
      "cell_type": "code",
      "source": [
        "pd.read_sql_query(\"\"\"\n",
        "show columns from goa\n",
        " \"\"\", engine)"
      ],
      "metadata": {
        "id": "a01eNLpss6ty"
      },
      "execution_count": null,
      "outputs": []
    },
    {
      "cell_type": "markdown",
      "source": [
        "Run SQL query to get some useful data for all proteins from TCRD"
      ],
      "metadata": {
        "id": "BVW3t5ndkX_D"
      }
    },
    {
      "cell_type": "code",
      "source": [
        "#@title\n",
        "# Execute query and store results in DataFrame df1\n",
        "df1 = pd.read_sql_query(\"\"\"\n",
        "  select \n",
        "  protein.id,\n",
        "  protein.name,\n",
        "  protein.description,\n",
        "  protein.sym,\n",
        "  protein.uniprot,\n",
        "  protein.geneid,\n",
        "  protein.stringid,\n",
        "  target.tdl,\n",
        "  target.idg\n",
        "from\n",
        "  protein\n",
        "  join t2tc on protein.id=t2tc.protein_id\n",
        "  join target on t2tc.target_id=target.id\n",
        "order by\n",
        "  protein.id\n",
        " \"\"\", engine)\n",
        "\n",
        "#save results to file\n",
        "df1.to_csv(\"tcrd_proteins.csv\", index=False)\n",
        "\n",
        "# Show results\n",
        "df1"
      ],
      "metadata": {
        "id": "iXRQVcbek4FM"
      },
      "execution_count": null,
      "outputs": []
    },
    {
      "cell_type": "markdown",
      "source": [
        "Get all GO data"
      ],
      "metadata": {
        "id": "_KwVpPGAoXvv"
      }
    },
    {
      "cell_type": "code",
      "source": [
        "#@title\n",
        "df2 = pd.read_sql_query(\"\"\"\n",
        "select\n",
        "  *\n",
        "from\n",
        "  goa\n",
        "order by\n",
        "  protein_id\n",
        "\"\"\", engine)\n",
        "\n",
        "#save results to file\n",
        "df2.to_csv(\"tcrd_go.csv\", index=False)\n",
        "\n",
        "#Show results\n",
        "df2"
      ],
      "metadata": {
        "id": "03_a9Y7qodIi"
      },
      "execution_count": null,
      "outputs": []
    }
  ]
}